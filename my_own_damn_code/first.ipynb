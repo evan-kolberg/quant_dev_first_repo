{
 "cells": [
  {
   "cell_type": "code",
   "execution_count": 1,
   "id": "b41cdb2a",
   "metadata": {},
   "outputs": [
    {
     "name": "stdout",
     "output_type": "stream",
     "text": [
      "YF.download() has changed argument auto_adjust default to True\n"
     ]
    },
    {
     "name": "stderr",
     "output_type": "stream",
     "text": [
      "[*********************100%***********************]  20 of 20 completed\n",
      "[*********************100%***********************]  20 of 20 completed\n"
     ]
    }
   ],
   "source": [
    "import yfinance as yf\n",
    "import pandas as pd\n",
    "from bokeh.plotting import figure, show, output_file\n",
    "from bokeh.models import HoverTool, ColumnDataSource\n",
    "from bokeh.palettes import Category10\n",
    "from datetime import datetime\n",
    "\n",
    "tickers = ['AAPL', 'MSFT', 'GOOG', 'AMZN', 'TSLA',\n",
    "           'NFLX', 'META', 'NVDA', 'AMD', 'INTC',\n",
    "           'CSCO', 'ORCL', 'IBM', 'QCOM', 'TXN',\n",
    "           'ADBE', 'CRM', 'INTU', 'NOW', 'ZM']\n",
    "\n",
    "data = yf.download(tickers, start=\"2020-01-01\", end=\"2025-01-01\")['Close']"
   ]
  },
  {
   "cell_type": "code",
   "execution_count": 2,
   "id": "0b9e2114",
   "metadata": {},
   "outputs": [],
   "source": [
    "data.dropna(inplace=True)\n",
    "\n",
    "initial_capital = 1_000_000\n",
    "equal_weight = initial_capital / len(tickers)\n",
    "\n",
    "first_prices = data.iloc[0]\n",
    "shares = equal_weight / first_prices\n",
    "\n",
    "portfolio_values = data.dot(shares)\n",
    "\n",
    "source = ColumnDataSource(data={\n",
    "    'Date': data.index,\n",
    "    'Portfolio Value': portfolio_values\n",
    "})"
   ]
  },
  {
   "cell_type": "code",
   "execution_count": 3,
   "id": "6428117e",
   "metadata": {},
   "outputs": [],
   "source": [
    "p = figure(title=\"Buy and Hold Portfolio Value Over Time\",\n",
    "           x_axis_type='datetime',\n",
    "           width=1000,\n",
    "           height=400)\n",
    "\n",
    "p.line('Date', 'Portfolio Value', source=source, line_width=2, color='navy', legend_label='Portfolio')\n",
    "\n",
    "hover = HoverTool(tooltips=[('Date', '@Date{%F}'), ('Value', '@{Portfolio Value}{$0,0.00}')],\n",
    "                  formatters={'@Date': 'datetime'},\n",
    "                  mode='vline')\n",
    "p.add_tools(hover)\n",
    "\n",
    "p.legend.location = \"top_left\"\n",
    "p.xaxis.axis_label = 'Date'\n",
    "p.yaxis.axis_label = 'Portfolio Value ($)'\n",
    "\n",
    "output_file(\"buy_and_hold_portfolio.html\")"
   ]
  },
  {
   "cell_type": "code",
   "execution_count": null,
   "id": "c327b43e",
   "metadata": {},
   "outputs": [],
   "source": []
  },
  {
   "cell_type": "code",
   "execution_count": null,
   "id": "85e72f17",
   "metadata": {},
   "outputs": [],
   "source": []
  }
 ],
 "metadata": {
  "kernelspec": {
   "display_name": "quant-3.13.2",
   "language": "python",
   "name": "python3"
  },
  "language_info": {
   "codemirror_mode": {
    "name": "ipython",
    "version": 3
   },
   "file_extension": ".py",
   "mimetype": "text/x-python",
   "name": "python",
   "nbconvert_exporter": "python",
   "pygments_lexer": "ipython3",
   "version": "3.13.2"
  }
 },
 "nbformat": 4,
 "nbformat_minor": 5
}
