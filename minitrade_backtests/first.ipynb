{
 "cells": [
  {
   "cell_type": "code",
   "execution_count": null,
   "id": "cb4279d2",
   "metadata": {},
   "outputs": [],
   "source": [
    "from minitrade.backtest import Strategy\n",
    "\n",
    "class MyStrategy(Strategy):\n",
    "    def init(self):\n",
    "        self.roc = self.I(self.data.ta.roc(10), name='ROC')  # calculate the rate of change of the close price\n",
    "\n",
    "    def next(self):\n",
    "        self.alloc.assume_zero()  # initialize the allocation to zero\n",
    "        roc = self.roc.df.iloc[-1]  # get the latest rate of change\n",
    "        (self.alloc.bucket['equity']\n",
    "            .append(roc.sort_values(ascending=False), roc > 0)  # add to bucket stocks with positive ROC ranked in descending order\n",
    "            .keep_up_to(3)  # keep up to the top 3 stocks\n",
    "            .weight_explicitly(1/3)  # allocate 1/3 of portfolio value to each asset in the bucket\n",
    "            .apply())  # apply the allocation\n",
    "        self.rebalance(cash_reserve=0.01)  # rebalance the portfolio\n",
    "\n",
    "from minitrade.datasource import QuoteSource\n",
    "from minitrade.backtest import Backtest\n",
    "\n",
    "yahoo = QuoteSource.get_source('Yahoo')\n",
    "data = yahoo.daily_data['MMM', 'AXP', 'AAPL', 'BA', 'CVX', start='2023-01-01']\n",
    "bt = Backtest(data, MyStrategy, cash=10000)\n",
    "bt.run()\n",
    "\n",
    "bt.plot(plot_allocation=True)\n"
   ]
  }
 ],
 "metadata": {
  "kernelspec": {
   "display_name": "quant",
   "language": "python",
   "name": "python3"
  },
  "language_info": {
   "name": "python",
   "version": "3.13.2"
  }
 },
 "nbformat": 4,
 "nbformat_minor": 5
}
